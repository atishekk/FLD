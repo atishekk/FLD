{
 "cells": [
  {
   "cell_type": "code",
   "execution_count": 1,
   "id": "11cf7a6b-c61f-4a12-8eec-b1f7f9da7c84",
   "metadata": {},
   "outputs": [],
   "source": [
    "from pathlib import Path\n",
    "import numpy as np"
   ]
  },
  {
   "cell_type": "code",
   "execution_count": 2,
   "id": "a0a135aa-1f4f-42d0-976c-e0371cde1bb9",
   "metadata": {},
   "outputs": [],
   "source": [
    "# logging config\n",
    "import logging\n",
    "logging.basicConfig(filename='enhance_error.log', encoding='utf-8', level=logging.DEBUG)"
   ]
  },
  {
   "cell_type": "code",
   "execution_count": 3,
   "id": "567ac07c-c59d-4c31-a099-268351d47275",
   "metadata": {},
   "outputs": [],
   "source": [
    "from preprocessing.segmentation import otsu_thresholding\n",
    "from preprocessing.enhacement import ImageEnhancer"
   ]
  },
  {
   "cell_type": "code",
   "execution_count": 4,
   "id": "c55ffb38-361a-4299-ae39-3a1ae49c3fe9",
   "metadata": {},
   "outputs": [],
   "source": [
    "BASE_PATH_TRAINING = Path(\"data/LivDet2015/Training\")\n",
    "BASE_PATH_TESTING = Path(\"data/LivDet2015/Testing\")"
   ]
  },
  {
   "cell_type": "code",
   "execution_count": 5,
   "id": "e464dbd2-181e-4b12-8290-6483989f40f5",
   "metadata": {},
   "outputs": [],
   "source": [
    "BASE_PATH_TRAINING_ENH = Path(\"data/enhanced/Training\")\n",
    "BASE_PATH_TESTING_ENH = Path(\"data/enhanced/Training\")\n",
    "\n",
    "BASE_PATH_TESTING_ENH.mkdir(parents=True, exist_ok=True)\n",
    "BASE_PATH_TRAINING_ENH.mkdir(parents=True, exist_ok=True)"
   ]
  },
  {
   "cell_type": "markdown",
   "id": "20c39bfd-cdc7-4ea1-bc3c-e1eecb1b14aa",
   "metadata": {
    "tags": []
   },
   "source": [
    "# Enhancing training images"
   ]
  },
  {
   "cell_type": "code",
   "execution_count": 6,
   "id": "a585ef3f-e870-4c3e-b2b2-e31a73ea6669",
   "metadata": {},
   "outputs": [
    {
     "data": {
      "text/plain": [
       "6950"
      ]
     },
     "execution_count": 6,
     "metadata": {},
     "output_type": "execute_result"
    }
   ],
   "source": [
    "LIVE_IMAGES = list(BASE_PATH_TRAINING.glob(\"**/Live/*.bmp\"))\n",
    "len(LIVE_IMAGES)"
   ]
  },
  {
   "cell_type": "code",
   "execution_count": 7,
   "id": "27c0bd4b-e7f3-4832-9f27-0b6bfdfc59bb",
   "metadata": {},
   "outputs": [
    {
     "data": {
      "text/plain": [
       "6968"
      ]
     },
     "execution_count": 7,
     "metadata": {},
     "output_type": "execute_result"
    }
   ],
   "source": [
    "FAKE_IMAGES = list(BASE_PATH_TRAINING.glob(\"**/Fake/**/*.bmp\"))\n",
    "len(FAKE_IMAGES)"
   ]
  },
  {
   "cell_type": "code",
   "execution_count": 8,
   "id": "c4eb88a8-27e6-46fd-9167-8ecc5a31287b",
   "metadata": {},
   "outputs": [],
   "source": [
    "ENHANCED_LIVE_IMAGES_PATH = Path(BASE_PATH_TRAINING_ENH, \"Live\")\n",
    "ENHANCED_FAKE_IMAGES_PATH = Path(BASE_PATH_TRAINING_ENH, \"Fake\")\n",
    "\n",
    "ENHANCED_LIVE_IMAGES_PATH.mkdir(exist_ok=True)\n",
    "ENHANCED_FAKE_IMAGES_PATH.mkdir(exist_ok=True)"
   ]
  },
  {
   "cell_type": "code",
   "execution_count": 11,
   "id": "43da5b64-7a88-4dfd-b1d2-a59834a9aae6",
   "metadata": {},
   "outputs": [
    {
     "data": {
      "text/plain": [
       "(6949, 2290)"
      ]
     },
     "execution_count": 11,
     "metadata": {},
     "output_type": "execute_result"
    }
   ],
   "source": [
    "ENHANCED_LIVE_IMAGES = set(f.name for f in ENHANCED_LIVE_IMAGES_PATH.glob(\"*.bmp\"))\n",
    "ENHANCED_FAKE_IMAGES = set(f.name for f in ENHANCED_FAKE_IMAGES_PATH.glob(\"*.bmp\"))\n",
    "\n",
    "len(ENHANCED_LIVE_IMAGES), len(ENHANCED_FAKE_IMAGES)"
   ]
  },
  {
   "cell_type": "code",
   "execution_count": 10,
   "id": "d0f2e5ba-fda1-41ca-96f0-e5955d9efe64",
   "metadata": {},
   "outputs": [
    {
     "name": "stdout",
     "output_type": "stream",
     "text": [
      "6949\n"
     ]
    },
    {
     "data": {
      "application/vnd.jupyter.widget-view+json": {
       "model_id": "733ed6fe27254005a499b590869ffa86",
       "version_major": 2,
       "version_minor": 0
      },
      "text/plain": [
       "  0%|          | 0/6950 [00:00<?, ?it/s]"
      ]
     },
     "metadata": {},
     "output_type": "display_data"
    },
    {
     "name": "stderr",
     "output_type": "stream",
     "text": [
      "/home/atishek/source/dl/FLD/.env/lib/python3.10/site-packages/numpy/core/fromnumeric.py:3432: RuntimeWarning: Mean of empty slice.\n",
      "  return _methods._mean(a, axis=axis, dtype=dtype,\n",
      "/home/atishek/source/dl/FLD/.env/lib/python3.10/site-packages/numpy/core/_methods.py:190: RuntimeWarning: invalid value encountered in double_scalars\n",
      "  ret = ret.dtype.type(ret / rcount)\n"
     ]
    },
    {
     "name": "stdout",
     "output_type": "stream",
     "text": [
      "1630\n"
     ]
    },
    {
     "data": {
      "application/vnd.jupyter.widget-view+json": {
       "model_id": "7d705c14995c494c9731017be4eb6084",
       "version_major": 2,
       "version_minor": 0
      },
      "text/plain": [
       "  0%|          | 0/6968 [00:00<?, ?it/s]"
      ]
     },
     "metadata": {},
     "output_type": "display_data"
    },
    {
     "name": "stderr",
     "output_type": "stream",
     "text": [
      "/home/atishek/source/dl/FLD/.env/lib/python3.10/site-packages/numpy/core/fromnumeric.py:3432: RuntimeWarning: Mean of empty slice.\n",
      "  return _methods._mean(a, axis=axis, dtype=dtype,\n",
      "/home/atishek/source/dl/FLD/.env/lib/python3.10/site-packages/numpy/core/_methods.py:190: RuntimeWarning: invalid value encountered in double_scalars\n",
      "  ret = ret.dtype.type(ret / rcount)\n",
      "/home/atishek/source/dl/FLD/.env/lib/python3.10/site-packages/numpy/core/fromnumeric.py:3432: RuntimeWarning: Mean of empty slice.\n",
      "  return _methods._mean(a, axis=axis, dtype=dtype,\n",
      "/home/atishek/source/dl/FLD/.env/lib/python3.10/site-packages/numpy/core/_methods.py:190: RuntimeWarning: invalid value encountered in double_scalars\n",
      "  ret = ret.dtype.type(ret / rcount)\n",
      "/home/atishek/source/dl/FLD/.env/lib/python3.10/site-packages/numpy/core/fromnumeric.py:3432: RuntimeWarning: Mean of empty slice.\n",
      "  return _methods._mean(a, axis=axis, dtype=dtype,\n",
      "/home/atishek/source/dl/FLD/.env/lib/python3.10/site-packages/numpy/core/_methods.py:190: RuntimeWarning: invalid value encountered in double_scalars\n",
      "  ret = ret.dtype.type(ret / rcount)\n",
      "/home/atishek/source/dl/FLD/.env/lib/python3.10/site-packages/numpy/core/fromnumeric.py:3432: RuntimeWarning: Mean of empty slice.\n",
      "  return _methods._mean(a, axis=axis, dtype=dtype,\n",
      "/home/atishek/source/dl/FLD/.env/lib/python3.10/site-packages/numpy/core/_methods.py:190: RuntimeWarning: invalid value encountered in double_scalars\n",
      "  ret = ret.dtype.type(ret / rcount)\n",
      "/home/atishek/source/dl/FLD/.env/lib/python3.10/site-packages/numpy/core/fromnumeric.py:3432: RuntimeWarning: Mean of empty slice.\n",
      "  return _methods._mean(a, axis=axis, dtype=dtype,\n",
      "/home/atishek/source/dl/FLD/.env/lib/python3.10/site-packages/numpy/core/_methods.py:190: RuntimeWarning: invalid value encountered in double_scalars\n",
      "  ret = ret.dtype.type(ret / rcount)\n"
     ]
    }
   ],
   "source": [
    "from tqdm import tqdm\n",
    "from PIL import Image\n",
    "from tqdm.contrib.concurrent import process_map\n",
    "\n",
    "CHUNK_SIZE = 10\n",
    "WORKERS = 8\n",
    "\n",
    "enhancer = ImageEnhancer()\n",
    "\n",
    "def _enhance(img):\n",
    "    if img.name in done:\n",
    "        return\n",
    "    try:\n",
    "        image = np.array(Image.open(img))\n",
    "        enhanced = otsu_thresholding(enhancer.enhance(image))\n",
    "        Image.fromarray(enhanced).save(Path(dest, img.name))\n",
    "    except:\n",
    "        logging.error(f\"ERROR - FILE: {img}\")\n",
    "        \n",
    "with np.errstate(divide='raise'):\n",
    "    for imgs, dest, done in zip([LIVE_IMAGES, FAKE_IMAGES], [ENHANCED_LIVE_IMAGES_PATH, ENHANCED_FAKE_IMAGES_PATH], [ENHANCED_LIVE_IMAGES, ENHANCED_FAKE_IMAGES]):\n",
    "        print(len(done))\n",
    "        process_map(_enhance, imgs, chunksize=CHUNK_SIZE, max_workers=WORKERS)"
   ]
  }
 ],
 "metadata": {
  "kernelspec": {
   "display_name": "Python 3 (ipykernel)",
   "language": "python",
   "name": "python3"
  },
  "language_info": {
   "codemirror_mode": {
    "name": "ipython",
    "version": 3
   },
   "file_extension": ".py",
   "mimetype": "text/x-python",
   "name": "python",
   "nbconvert_exporter": "python",
   "pygments_lexer": "ipython3",
   "version": "3.10.6"
  }
 },
 "nbformat": 4,
 "nbformat_minor": 5
}
