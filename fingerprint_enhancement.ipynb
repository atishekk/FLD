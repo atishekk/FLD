{
 "cells": [
  {
   "cell_type": "code",
   "execution_count": 11,
   "id": "11cf7a6b-c61f-4a12-8eec-b1f7f9da7c84",
   "metadata": {},
   "outputs": [],
   "source": [
    "from pathlib import Path\n",
    "import numpy as np"
   ]
  },
  {
   "cell_type": "code",
   "execution_count": 12,
   "id": "a0a135aa-1f4f-42d0-976c-e0371cde1bb9",
   "metadata": {},
   "outputs": [],
   "source": [
    "# logging config\n",
    "import logging\n",
    "logging.basicConfig(filename='enhance_error.log', encoding='utf-8', level=logging.DEBUG)"
   ]
  },
  {
   "cell_type": "code",
   "execution_count": 13,
   "id": "567ac07c-c59d-4c31-a099-268351d47275",
   "metadata": {},
   "outputs": [],
   "source": [
    "from preprocessing.segmentation import otsu_thresholding\n",
    "from preprocessing.enhacement import ImageEnhancer"
   ]
  },
  {
   "cell_type": "code",
   "execution_count": 14,
   "id": "c55ffb38-361a-4299-ae39-3a1ae49c3fe9",
   "metadata": {},
   "outputs": [],
   "source": [
    "BASE_PATH_TRAINING = Path(\"data/LivDet2015/Training\")\n",
    "BASE_PATH_TESTING = Path(\"data/LivDet2015/Testing\")"
   ]
  },
  {
   "cell_type": "code",
   "execution_count": 15,
   "id": "e464dbd2-181e-4b12-8290-6483989f40f5",
   "metadata": {},
   "outputs": [],
   "source": [
    "BASE_PATH_TRAINING_ENH = Path(\"data/enhanced/Training\")\n",
    "BASE_PATH_TESTING_ENH = Path(\"data/enhanced/Testing\")\n",
    "\n",
    "BASE_PATH_TESTING_ENH.mkdir(parents=True, exist_ok=True)\n",
    "BASE_PATH_TRAINING_ENH.mkdir(parents=True, exist_ok=True)"
   ]
  },
  {
   "cell_type": "markdown",
   "id": "20c39bfd-cdc7-4ea1-bc3c-e1eecb1b14aa",
   "metadata": {
    "tags": []
   },
   "source": [
    "# Enhancing training images"
   ]
  },
  {
   "cell_type": "code",
   "execution_count": 16,
   "id": "a585ef3f-e870-4c3e-b2b2-e31a73ea6669",
   "metadata": {},
   "outputs": [
    {
     "data": {
      "text/plain": [
       "(8950, 4500)"
      ]
     },
     "execution_count": 16,
     "metadata": {},
     "output_type": "execute_result"
    }
   ],
   "source": [
    "LIVE_IMAGES_TRAINING = list(BASE_PATH_TRAINING.glob(\"**/Live/*.[bp][mn][pg]\"))\n",
    "LIVE_IMAGES_TESTING = list(BASE_PATH_TESTING.glob(\"**/Live/*.[bp][mn][pg]\"))\n",
    "len(LIVE_IMAGES_TRAINING), len(LIVE_IMAGES_TESTING)"
   ]
  },
  {
   "cell_type": "code",
   "execution_count": 17,
   "id": "27c0bd4b-e7f3-4832-9f27-0b6bfdfc59bb",
   "metadata": {},
   "outputs": [
    {
     "data": {
      "text/plain": [
       "(8968, 5947)"
      ]
     },
     "execution_count": 17,
     "metadata": {},
     "output_type": "execute_result"
    }
   ],
   "source": [
    "FAKE_IMAGES_TRAINING = list(BASE_PATH_TRAINING.glob(\"**/Fake/**/*.[bp][mn][pg]\"))\n",
    "FAKE_IMAGES_TESTING = list(BASE_PATH_TESTING.glob(\"**/Fake/**/*.[bp][mn][pg]\"))\n",
    "len(FAKE_IMAGES_TRAINING), len(FAKE_IMAGES_TESTING)"
   ]
  },
  {
   "cell_type": "code",
   "execution_count": 18,
   "id": "c4eb88a8-27e6-46fd-9167-8ecc5a31287b",
   "metadata": {},
   "outputs": [],
   "source": [
    "ENHANCED_LIVE_IMAGES_PATH = Path(BASE_PATH_TRAINING_ENH, \"Live\")\n",
    "ENHANCED_FAKE_IMAGES_PATH = Path(BASE_PATH_TRAINING_ENH, \"Fake\")\n",
    "\n",
    "ENHANCED_LIVE_IMAGES_PATH_TE = Path(BASE_PATH_TESTING_ENH, \"Live\")\n",
    "ENHANCED_FAKE_IMAGES_PATH_TE = Path(BASE_PATH_TESTING_ENH, \"Fake\")\n",
    "\n",
    "ENHANCED_LIVE_IMAGES_PATH.mkdir(exist_ok=True)\n",
    "ENHANCED_FAKE_IMAGES_PATH.mkdir(exist_ok=True)\n",
    "ENHANCED_FAKE_IMAGES_PATH_TE.mkdir(exist_ok=True)\n",
    "ENHANCED_LIVE_IMAGES_PATH_TE.mkdir(exist_ok=True)"
   ]
  },
  {
   "cell_type": "code",
   "execution_count": 19,
   "id": "d0f2e5ba-fda1-41ca-96f0-e5955d9efe64",
   "metadata": {},
   "outputs": [],
   "source": [
    "from tqdm import tqdm\n",
    "from PIL import Image\n",
    "from tqdm.contrib.concurrent import process_map\n",
    "\n",
    "CHUNK_SIZE = 10\n",
    "WORKERS = 8\n",
    "\n",
    "enhancer = ImageEnhancer()\n",
    "\n",
    "def _enhance(img):\n",
    "    if img.parents[0].stem == 'Live':\n",
    "        prefix = img.parents[1].stem\n",
    "    else:\n",
    "        prefix = f\"{img.parents[2].stem}_{img.parents[0].stem}\"\n",
    "        \n",
    "    try:\n",
    "        image = np.array(Image.open(img).convert(\"L\"))\n",
    "        enhanced = otsu_thresholding(enhancer.enhance(image))\n",
    "        Image.fromarray(enhanced).save(Path(dest, f\"{prefix}_{img.name}\"))\n",
    "    except Exception as e:\n",
    "        print(f\"ERROR - FILE: {img}, {e}\")"
   ]
  },
  {
   "cell_type": "code",
   "execution_count": 20,
   "id": "23b94118-8f23-4a39-9275-d8ad3b7cfe3c",
   "metadata": {},
   "outputs": [
    {
     "data": {
      "application/vnd.jupyter.widget-view+json": {
       "model_id": "ee11fcc128e844429e9b06b5e2149d45",
       "version_major": 2,
       "version_minor": 0
      },
      "text/plain": [
       "  0%|          | 0/4500 [00:00<?, ?it/s]"
      ]
     },
     "metadata": {},
     "output_type": "display_data"
    },
    {
     "name": "stdout",
     "output_type": "stream",
     "text": [
      "ERROR - FILE: data/LivDet2015/Testing/GreenBit/Live/007_8_0.png, broken data stream when reading image file\n",
      "ERROR - FILE: data/LivDet2015/Testing/GreenBit/Live/009_8_7.png, broken data stream when reading image file\n",
      "ERROR - FILE: data/LivDet2015/Testing/GreenBit/Live/006_4_6.png, broken data stream when reading image file\n",
      "ERROR - FILE: data/LivDet2015/Testing/GreenBit/Live/023_2_9.png, broken data stream when reading image file\n",
      "ERROR - FILE: data/LivDet2015/Testing/GreenBit/Live/015_4_1.png, broken data stream when reading image file\n"
     ]
    },
    {
     "data": {
      "application/vnd.jupyter.widget-view+json": {
       "model_id": "ac06818fe3bc4703b770bf43244743c0",
       "version_major": 2,
       "version_minor": 0
      },
      "text/plain": [
       "  0%|          | 0/8968 [00:00<?, ?it/s]"
      ]
     },
     "metadata": {},
     "output_type": "display_data"
    },
    {
     "name": "stderr",
     "output_type": "stream",
     "text": [
      "/home/atishek/source/dl/FLD/.env/lib/python3.10/site-packages/numpy/core/fromnumeric.py:3432: RuntimeWarning: Mean of empty slice.\n",
      "  return _methods._mean(a, axis=axis, dtype=dtype,\n",
      "/home/atishek/source/dl/FLD/.env/lib/python3.10/site-packages/numpy/core/_methods.py:190: RuntimeWarning: invalid value encountered in double_scalars\n",
      "  ret = ret.dtype.type(ret / rcount)\n"
     ]
    },
    {
     "name": "stdout",
     "output_type": "stream",
     "text": [
      "ERROR - FILE: data/LivDet2015/Training/Digital_Persona/Fake/Gelatine/008_4_0.png, index 0 is out of bounds for axis 0 with size 0\n"
     ]
    },
    {
     "name": "stderr",
     "output_type": "stream",
     "text": [
      "/home/atishek/source/dl/FLD/.env/lib/python3.10/site-packages/numpy/core/fromnumeric.py:3432: RuntimeWarning: Mean of empty slice.\n",
      "  return _methods._mean(a, axis=axis, dtype=dtype,\n",
      "/home/atishek/source/dl/FLD/.env/lib/python3.10/site-packages/numpy/core/_methods.py:190: RuntimeWarning: invalid value encountered in double_scalars\n",
      "  ret = ret.dtype.type(ret / rcount)\n"
     ]
    },
    {
     "name": "stdout",
     "output_type": "stream",
     "text": [
      "ERROR - FILE: data/LivDet2015/Training/Time_Series/Fake/Body Double/3290393_R5_2_1.bmp, index 0 is out of bounds for axis 0 with size 0\n"
     ]
    },
    {
     "name": "stderr",
     "output_type": "stream",
     "text": [
      "/home/atishek/source/dl/FLD/.env/lib/python3.10/site-packages/numpy/core/fromnumeric.py:3432: RuntimeWarning: Mean of empty slice.\n",
      "  return _methods._mean(a, axis=axis, dtype=dtype,\n",
      "/home/atishek/source/dl/FLD/.env/lib/python3.10/site-packages/numpy/core/_methods.py:190: RuntimeWarning: invalid value encountered in double_scalars\n",
      "  ret = ret.dtype.type(ret / rcount)\n"
     ]
    },
    {
     "name": "stdout",
     "output_type": "stream",
     "text": [
      "ERROR - FILE: data/LivDet2015/Training/Time_Series/Fake/Body Double/3974480_R3_1_5.bmp, index 0 is out of bounds for axis 0 with size 0\n",
      "ERROR - FILE: data/LivDet2015/Training/Time_Series/Fake/Body Double/4160639_R3_2_3.bmp, Zero standard deviation for the image\n",
      "ERROR - FILE: data/LivDet2015/Training/Time_Series/Fake/Body Double/3974480_R3_2_3.bmp, Zero standard deviation for the image\n",
      "ERROR - FILE: data/LivDet2015/Training/Time_Series/Fake/Ecoflex/7842542_R3_2_1.bmp, Zero standard deviation for the image\n",
      "ERROR - FILE: data/LivDet2015/Training/Time_Series/Fake/Ecoflex/7721256_R3_2_1.bmp, index 0 is out of bounds for axis 0 with size 0\n",
      "ERROR - FILE: data/LivDet2015/Training/Time_Series/Fake/Ecoflex/3104023_R3_1_3.bmp, Zero standard deviation for the image\n",
      "ERROR - FILE: data/LivDet2015/Training/Time_Series/Fake/Ecoflex/6097150_R3_1_3.bmp, Zero standard deviation for the image\n",
      "ERROR - FILE: data/LivDet2015/Training/Time_Series/Fake/Ecoflex/6097150_R1_3_3.bmp, Zero standard deviation for the image\n",
      "ERROR - FILE: data/LivDet2015/Training/Time_Series/Fake/Ecoflex/1369711_R5_3_1.bmp, Zero standard deviation for the image\n",
      "ERROR - FILE: data/LivDet2015/Training/Time_Series/Fake/Ecoflex/3088988_R4_3_1.bmp, Zero standard deviation for the image\n",
      "ERROR - FILE: data/LivDet2015/Training/Time_Series/Fake/Ecoflex/2584275_R1_3_3.bmp, Zero standard deviation for the image\n"
     ]
    },
    {
     "name": "stderr",
     "output_type": "stream",
     "text": [
      "/home/atishek/source/dl/FLD/.env/lib/python3.10/site-packages/numpy/core/fromnumeric.py:3432: RuntimeWarning: Mean of empty slice.\n",
      "  return _methods._mean(a, axis=axis, dtype=dtype,\n",
      "/home/atishek/source/dl/FLD/.env/lib/python3.10/site-packages/numpy/core/_methods.py:190: RuntimeWarning: invalid value encountered in double_scalars\n",
      "  ret = ret.dtype.type(ret / rcount)\n"
     ]
    },
    {
     "name": "stdout",
     "output_type": "stream",
     "text": [
      "ERROR - FILE: data/LivDet2015/Training/Time_Series/Fake/Ecoflex/3974480_R4_2_1.bmp, index 0 is out of bounds for axis 0 with size 0\n",
      "ERROR - FILE: data/LivDet2015/Training/Time_Series/Fake/Ecoflex/6097150_R1_3_1.bmp, Zero standard deviation for the image\n",
      "ERROR - FILE: data/LivDet2015/Training/Time_Series/Fake/Ecoflex/7721256_R3_2_3.bmp, Zero standard deviation for the image\n",
      "ERROR - FILE: data/LivDet2015/Training/Time_Series/Fake/Ecoflex/2512714_R5_1_3.bmp, Zero standard deviation for the image\n",
      "ERROR - FILE: data/LivDet2015/Training/Time_Series/Fake/Playdoh/2512714_R3_3_3.bmp, Zero standard deviation for the image\n"
     ]
    },
    {
     "name": "stderr",
     "output_type": "stream",
     "text": [
      "/home/atishek/source/dl/FLD/.env/lib/python3.10/site-packages/numpy/core/fromnumeric.py:3432: RuntimeWarning: Mean of empty slice.\n",
      "  return _methods._mean(a, axis=axis, dtype=dtype,\n",
      "/home/atishek/source/dl/FLD/.env/lib/python3.10/site-packages/numpy/core/_methods.py:190: RuntimeWarning: invalid value encountered in double_scalars\n",
      "  ret = ret.dtype.type(ret / rcount)\n"
     ]
    },
    {
     "name": "stdout",
     "output_type": "stream",
     "text": [
      "ERROR - FILE: data/LivDet2015/Training/Time_Series/Fake/Playdoh/4160639_R5_1_1.bmp, index 0 is out of bounds for axis 0 with size 0\n",
      "ERROR - FILE: data/LivDet2015/Training/Time_Series/Fake/Playdoh/2584275_R2_2_1.bmp, index 0 is out of bounds for axis 0 with size 0\n",
      "ERROR - FILE: data/LivDet2015/Training/Time_Series/Fake/Playdoh/5744180_R5_3_3.bmp, Zero standard deviation for the image\n",
      "ERROR - FILE: data/LivDet2015/Training/Time_Series/Fake/Playdoh/7010229_R5_2_1.bmp, index 0 is out of bounds for axis 0 with size 0\n"
     ]
    },
    {
     "name": "stderr",
     "output_type": "stream",
     "text": [
      "/home/atishek/source/dl/FLD/.env/lib/python3.10/site-packages/numpy/core/fromnumeric.py:3432: RuntimeWarning: Mean of empty slice.\n",
      "  return _methods._mean(a, axis=axis, dtype=dtype,\n",
      "/home/atishek/source/dl/FLD/.env/lib/python3.10/site-packages/numpy/core/_methods.py:190: RuntimeWarning: invalid value encountered in double_scalars\n",
      "  ret = ret.dtype.type(ret / rcount)\n"
     ]
    },
    {
     "name": "stdout",
     "output_type": "stream",
     "text": [
      "ERROR - FILE: data/LivDet2015/Training/Time_Series/Fake/Playdoh/0974469_R1_3_3.bmp, index 0 is out of bounds for axis 0 with size 0\n",
      "ERROR - FILE: data/LivDet2015/Training/Time_Series/Fake/Playdoh/7439020_R1_3_1.bmp, index 0 is out of bounds for axis 0 with size 0\n",
      "ERROR - FILE: data/LivDet2015/Training/Time_Series/Fake/Playdoh/4786584_R2_2_1.bmp, index 0 is out of bounds for axis 0 with size 0\n",
      "ERROR - FILE: data/LivDet2015/Training/Time_Series/Fake/Playdoh/6927574_R5_2_1.bmp, Zero standard deviation for the image\n",
      "ERROR - FILE: data/LivDet2015/Training/Time_Series/Fake/Playdoh/7842542_R4_1_1.bmp, index 0 is out of bounds for axis 0 with size 0\n",
      "ERROR - FILE: data/LivDet2015/Training/Time_Series/Fake/Playdoh/2512714_R3_3_1.bmp, Zero standard deviation for the image\n",
      "ERROR - FILE: data/LivDet2015/Training/Time_Series/Fake/Playdoh/1369711_R3_3_1.bmp, index 0 is out of bounds for axis 0 with size 0\n",
      "ERROR - FILE: data/LivDet2015/Training/Time_Series/Fake/Playdoh/1369711_R4_1_1.bmp, index 0 is out of bounds for axis 0 with size 0\n",
      "ERROR - FILE: data/LivDet2015/Training/Time_Series/Fake/Playdoh/0974469_R1_3_1.bmp, index 0 is out of bounds for axis 0 with size 0\n",
      "ERROR - FILE: data/LivDet2015/Training/Time_Series/Fake/Playdoh/4786584_R2_2_5.bmp, Zero standard deviation for the image\n"
     ]
    },
    {
     "data": {
      "application/vnd.jupyter.widget-view+json": {
       "model_id": "7a777a5a1e054d209d5b600c2a334c21",
       "version_major": 2,
       "version_minor": 0
      },
      "text/plain": [
       "  0%|          | 0/5947 [00:00<?, ?it/s]"
      ]
     },
     "metadata": {},
     "output_type": "display_data"
    },
    {
     "name": "stderr",
     "output_type": "stream",
     "text": [
      "/home/atishek/source/dl/FLD/.env/lib/python3.10/site-packages/numpy/core/fromnumeric.py:3432: RuntimeWarning: Mean of empty slice.\n",
      "  return _methods._mean(a, axis=axis, dtype=dtype,\n",
      "/home/atishek/source/dl/FLD/.env/lib/python3.10/site-packages/numpy/core/_methods.py:190: RuntimeWarning: invalid value encountered in double_scalars\n",
      "  ret = ret.dtype.type(ret / rcount)\n"
     ]
    },
    {
     "name": "stdout",
     "output_type": "stream",
     "text": [
      "ERROR - FILE: data/LivDet2015/Testing/GreenBit/Fake/Gelatine/007_3_0.png, index 0 is out of bounds for axis 0 with size 0\n"
     ]
    }
   ],
   "source": [
    "with np.errstate(divide='raise'):\n",
    "    for imgs, dest in zip([LIVE_IMAGES_TESTING, FAKE_IMAGES_TRAINING,FAKE_IMAGES_TESTING], \n",
    "                          [ENHANCED_LIVE_IMAGES_PATH_TE, ENHANCED_FAKE_IMAGES_PATH, ENHANCED_FAKE_IMAGES_PATH_TE]):\n",
    "        process_map(_enhance, imgs, chunksize=CHUNK_SIZE, max_workers=WORKERS)"
   ]
  }
 ],
 "metadata": {
  "kernelspec": {
   "display_name": "Python 3 (ipykernel)",
   "language": "python",
   "name": "python3"
  },
  "language_info": {
   "codemirror_mode": {
    "name": "ipython",
    "version": 3
   },
   "file_extension": ".py",
   "mimetype": "text/x-python",
   "name": "python",
   "nbconvert_exporter": "python",
   "pygments_lexer": "ipython3",
   "version": "3.10.6"
  }
 },
 "nbformat": 4,
 "nbformat_minor": 5
}
